{
 "cells": [
  {
   "cell_type": "code",
   "execution_count": null,
   "id": "e12a38e6",
   "metadata": {},
   "outputs": [
    {
     "name": "stdout",
     "output_type": "stream",
     "text": [
      "❌ فشل تحميل الصورة 4: ('Connection aborted.', RemoteDisconnected('Remote end closed connection without response'))\n",
      "❌ فشل تحميل الصورة 13: HTTPSConnectionPool(host='pixy.org', port=443): Max retries exceeded with url: /src/13/131630.jpg (Caused by SSLError(SSLCertVerificationError(1, '[SSL: CERTIFICATE_VERIFY_FAILED] certificate verify failed: certificate has expired (_ssl.c:1002)')))\n",
      "❌ فشل تحميل الصورة 12: HTTPConnectionPool(host='houseofdoors.ca', port=80): Max retries exceeded with url: /wp-content/uploads/2012/09/open_front_copy.jpg (Caused by NewConnectionError('<urllib3.connection.HTTPConnection object at 0x000001CBF61CFD50>: Failed to establish a new connection: [Errno 11002] getaddrinfo failed'))\n",
      "❌ فشل تحميل الصورة 8: HTTPConnectionPool(host='justwhelmed.com', port=80): Max retries exceeded with url: /wp-content/uploads/justwhelmedblog/2012/03/door.jpg (Caused by NewConnectionError('<urllib3.connection.HTTPConnection object at 0x000001CBF61CD9D0>: Failed to establish a new connection: [Errno 11001] getaddrinfo failed'))\n",
      "❌ فشل تحميل الصورة 10: HTTPSConnectionPool(host='letsanswerthis.com', port=443): Max retries exceeded with url: /wp-content/uploads/2022/02/chris-smith-ZeIFgSO3MAU-unsplash-edited-scaled.jpg (Caused by NewConnectionError('<urllib3.connection.HTTPSConnection object at 0x000001CBF5C54090>: Failed to establish a new connection: [Errno 11001] getaddrinfo failed'))\n"
     ]
    }
   ],
   "source": [
    "from duckduckgo_search import DDGS\n",
    "import requests\n",
    "import os\n",
    "\n",
    "def download_images(query, folder, num_images=40):\n",
    "    os.makedirs(folder, exist_ok=True)\n",
    "    \n",
    "    with DDGS() as ddgs:\n",
    "        results = ddgs.images(query, max_results=num_images)\n",
    "    \n",
    "    for i, result in enumerate(results):\n",
    "        img_url = result['image']\n",
    "        try:\n",
    "            img_data = requests.get(img_url).content\n",
    "            with open(f\"{folder}/{query}_{i}.jpg\", \"wb\") as f:\n",
    "                f.write(img_data)\n",
    "        except Exception as e:\n",
    "            print(f\"❌ فشل تحميل الصورة {i}: {e}\")\n",
    "\n",
    "# تحميل صور الفواكه، الأبواب، والكراسي\n",
    "download_images(\"Orange\", \"dataset/Orange\", 20)\n",
    "download_images(\"Apple\", \"dataset/Apple\", 20)\n",
    "download_images(\"banana\", \"dataset/banana\", 20)\n",
    "download_images(\"Person\", \"dataset/Person\", 20)\n",
    "download_images(\"Bicycle\", \"dataset/Bicycle\", 20)\n",
    "download_images(\"Car\", \"dataset/Car\", 20)\n",
    "download_images(\"Motorcycle\", \"dataset/Motorcycle\", 20)\n",
    "download_images(\"Airplane\", \"dataset/Airplane\", 20)\n",
    "download_images(\"open door\", \"dataset/open_doors\", 20)\n",
    "download_images(\"closed door\", \"dataset/closed_doors\", 20)\n",
    "download_images(\"chairs\", \"dataset/chairs\", 20)\n",
    "download_images(\"Bus\", \"dataset/Bus\", 20)\n",
    "download_images(\"Train\", \"dataset/Train\", 20)\n",
    "download_images(\"Boat\", \"dataset/Boat\", 20)\n",
    "download_images(\"Traffic light\", \"dataset/Traffic light\", 20)\n",
    "download_images(\"Fire hydrant\", \"dataset/Fire hydrant\", 20)\n",
    "download_images(\"Bird\", \"dataset/Bird\", 20)\n",
    "download_images(\"Cat\", \"dataset/Cat\", 20)\n",
    "download_images(\"Dog\", \"dataset/Dog\", 20)\n",
    "download_images(\"Horse\", \"dataset/Horse\", 20)\n",
    "download_images(\"Sheep\", \"dataset/Sheep\", 20)\n",
    "download_images(\"Cow\", \"dataset/Cow\", 20)\n",
    "download_images(\"Elephant\", \"dataset/Elephant\", 20)\n",
    "download_images(\"Bear\", \"dataset/Bear\", 20)\n",
    "download_images(\"Umbrella\", \"dataset/Umbrella\", 20)\n",
    "download_images(\"Handbag\", \"dataset/Handbag\", 20)\n",
    "download_images(\"Bottle\", \"dataset/Bottle\", 20)\n",
    "download_images(\"Knife\", \"dataset/Knife\", 20)\n",
    "download_images(\"Cup\", \"dataset/Cup\", 20)\n",
    "download_images(\"Carrot\", \"dataset/Carrot\", 20)\n",
    "download_images(\"Laptop\", \"dataset/Laptop\", 20)\n",
    "download_images(\"Book\", \"dataset/Book\", 20)\n",
    "download_images(\"Vase\", \"dataset/Vase\", 20)\n",
    "\n",
    "print(\"✅ تم تحميل الصور بنجاح!\")\n"
   ]
  },
  {
   "cell_type": "code",
   "execution_count": null,
   "id": "37f74393",
   "metadata": {},
   "outputs": [],
   "source": []
  },
  {
   "cell_type": "code",
   "execution_count": null,
   "id": "57f98629",
   "metadata": {},
   "outputs": [],
   "source": []
  }
 ],
 "metadata": {
  "kernelspec": {
   "display_name": "Python 3 (ipykernel)",
   "language": "python",
   "name": "python3"
  },
  "language_info": {
   "codemirror_mode": {
    "name": "ipython",
    "version": 3
   },
   "file_extension": ".py",
   "mimetype": "text/x-python",
   "name": "python",
   "nbconvert_exporter": "python",
   "pygments_lexer": "ipython3",
   "version": "3.11.4"
  }
 },
 "nbformat": 4,
 "nbformat_minor": 5
}
